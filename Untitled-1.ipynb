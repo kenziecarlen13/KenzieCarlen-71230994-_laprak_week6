{
 "cells": [
  {
   "cell_type": "code",
   "execution_count": 11,
   "metadata": {},
   "outputs": [
    {
     "name": "stdout",
     "output_type": "stream",
     "text": [
      "Maka prima terdekat <21 adalah:  19\n"
     ]
    }
   ],
   "source": [
    "#6.1\n",
    "def aia(n):\n",
    "    if n <= 2:\n",
    "        return None\n",
    "    elif n == 3:\n",
    "        return 2\n",
    "    else:\n",
    "        for i in range(n-1, 2, -1):\n",
    "            for j in range(2, i):\n",
    "                if i % j == 0:\n",
    "                    break\n",
    "            else:\n",
    "                return i\n",
    "\n",
    "n = int(input(\"Masukkan angka yang anda mau: \"))\n",
    "print(f\"Maka prima terdekat <{n} adalah: \", (aia(n)))"
   ]
  },
  {
   "cell_type": "code",
   "execution_count": 12,
   "metadata": {},
   "outputs": [
    {
     "name": "stdout",
     "output_type": "stream",
     "text": [
      "720 6 5 4 3 2 1 \n",
      "120 5 4 3 2 1 \n",
      "24 4 3 2 1 \n",
      "6 3 2 1 \n",
      "2 2 1 \n",
      "1 1 \n"
     ]
    }
   ],
   "source": [
    "#6.2\n",
    "def aia(n):\n",
    "    for i in range(n, 0, -1):\n",
    "        kcm = 1\n",
    "        for j in range(2, i+1):\n",
    "            kcm *= j\n",
    "        print(kcm, end=' ')\n",
    "        for k in range(i, 0, -1):\n",
    "            print(k, end=' ')\n",
    "        print()\n",
    "n = int(input(\"Masukkan angka yang kamuh mau: \"))\n",
    "aia(n)"
   ]
  },
  {
   "cell_type": "code",
   "execution_count": 13,
   "metadata": {},
   "outputs": [
    {
     "name": "stdout",
     "output_type": "stream",
     "text": [
      "1 2 3 4 \n",
      "5 6 7 8 \n",
      "9 10 11 12 \n",
      "13 14 15 16 \n",
      "17 18 19 20 \n"
     ]
    }
   ],
   "source": [
    "#6.3\n",
    "def aia(t, l):\n",
    "    mulai = 1\n",
    "    for i in range((t)):\n",
    "        for j in range((l)):\n",
    "            print(mulai, end=' ')\n",
    "            mulai += 1\n",
    "        print()\n",
    "t = int(input(\"Masukkan nilai untuk tinggi: \"))\n",
    "l = int(input(\"Masukkan nilai untuk lebar: \"))\n",
    "aia(t, l)"
   ]
  }
 ],
 "metadata": {
  "kernelspec": {
   "display_name": "base",
   "language": "python",
   "name": "python3"
  },
  "language_info": {
   "codemirror_mode": {
    "name": "ipython",
    "version": 3
   },
   "file_extension": ".py",
   "mimetype": "text/x-python",
   "name": "python",
   "nbconvert_exporter": "python",
   "pygments_lexer": "ipython3",
   "version": "3.11.5"
  }
 },
 "nbformat": 4,
 "nbformat_minor": 2
}
